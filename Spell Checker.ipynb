{
 "cells": [
  {
   "cell_type": "code",
   "execution_count": null,
   "metadata": {
    "collapsed": true
   },
   "outputs": [],
   "source": [
    "# The story is stored in the file \"story.txt\".\n",
    "f = open(\"data/story.txt\", 'r')\n",
    "story = f.read()"
   ]
  },
  {
   "cell_type": "code",
   "execution_count": null,
   "metadata": {
    "collapsed": true
   },
   "outputs": [],
   "source": [
    "# Create a tokenized story and split it at smpty space\n",
    "tokenized_story = story.split(\" \")"
   ]
  },
  {
   "cell_type": "code",
   "execution_count": null,
   "metadata": {
    "collapsed": true
   },
   "outputs": [],
   "source": [
    "# Remove punctuation \n",
    "no_punctuation_tokens = []\n",
    "for token in tokenized_story:\n",
    "       token = token.replace(\".\", \"\")\n",
    "       token = token.replace(\",\", \"\")\n",
    "       token = token.replace(\"'\", \"\")\n",
    "       token = token.replace(\";\", \"\")\n",
    "       token = token.replace(\"\\n\", \"\")\n",
    "       no_punctuation_tokens.append(token)"
   ]
  },
  {
   "cell_type": "code",
   "execution_count": null,
   "metadata": {
    "collapsed": true
   },
   "outputs": [],
   "source": [
    "# Lowercase eace letter in the list\n",
    "lowercase_tokens = []\n",
    "for tokens in no_punctuation_tokens:\n",
    "    tokens = tokens.lower()\n",
    "    lowercase_tokens.append(tokens)"
   ]
  },
  {
   "cell_type": "code",
   "execution_count": null,
   "metadata": {
    "collapsed": true
   },
   "outputs": [],
   "source": [
    "# A function that takes a string as input and outputs a lowercase version.\n",
    "lowercase_me = \"I wish I was in ALL lowercase\"\n",
    "def lowercase(text):\n",
    "    return text.lower()\n",
    "\n",
    "lowercased_string = lowercase(lowercase_me)"
   ]
  },
  {
   "cell_type": "code",
   "execution_count": null,
   "metadata": {
    "collapsed": true
   },
   "outputs": [],
   "source": [
    "# A function to remove all punctuation.\n",
    "no_punctuation_tokens = []\n",
    "def remove_punctuation(token):\n",
    "    token = token.replace(\".\", \"\")\n",
    "    token = token.replace(\",\", \"\")\n",
    "    token = token.replace(\"'\", \"\")\n",
    "    token = token.replace(\";\", \"\")\n",
    "    token = token.replace(\"\\n\", \"\")\n",
    "    return token\n",
    "\n",
    "for token in tokenized_story:\n",
    "    token = remove_punctuation(token)\n",
    "    no_punctuation_tokens.append(token)"
   ]
  },
  {
   "cell_type": "code",
   "execution_count": null,
   "metadata": {
    "collapsed": true
   },
   "outputs": [],
   "source": [
    "# This is our function to remove punctuation.\n",
    "def remove_punctuation(token):\n",
    "    token = token.replace(\".\",\"\")\n",
    "    token = token.replace(\",\",\"\")\n",
    "    token = token.replace(\"'\", \"\")\n",
    "    token = token.replace(\";\", \"\")\n",
    "    token = token.replace(\"\\n\", \"\")\n",
    "    token = token.lower()\n",
    "    return token\n",
    "\n",
    "# We've read the tokens from Julius's story into the tokenized_story variable.\n",
    "# Can you add to the remove_punctuation function so it also lowercases the tokens?\n",
    "# Then loop over the tokens in tokenized_story, normalize them with the function, and append them to normalized_tokens.\n",
    "normalized_tokens = []\n",
    "for token in tokenized_story:\n",
    "    token = remove_punctuation(token)\n",
    "    normalized_tokens.append(token)"
   ]
  },
  {
   "cell_type": "code",
   "execution_count": null,
   "metadata": {
    "collapsed": true
   },
   "outputs": [],
   "source": [
    "# Reading in and normalizing the dictionary\n",
    "def normalize(token):\n",
    "    token = token.replace(\".\",\"\")\n",
    "    token = token.replace(\",\",\"\")\n",
    "    token = token.replace(\"'\", \"\")\n",
    "    token = token.replace(\";\", \"\")\n",
    "    token = token.replace(\"\\n\", \"\")\n",
    "    token = token.lower()\n",
    "    return token\n",
    "\n",
    "normalized_dictionary_tokens = []\n",
    "f = open(\"data/dictionary.txt\", 'r')\n",
    "data = f.read()\n",
    "split = data.split(\" \")\n",
    "for token in split:\n",
    "    token = normalize(token)\n",
    "    normalized_dictionary_tokens.append(token)"
   ]
  },
  {
   "cell_type": "code",
   "execution_count": null,
   "metadata": {
    "collapsed": true
   },
   "outputs": [],
   "source": [
    "potential_misspellings = []\n",
    "correctly_spelled = []\n",
    "for token in normalized_story_tokens:\n",
    "    if token in normalized_dictionary_tokens:\n",
    "        correctly_spelled.append(token)\n",
    "    else: \n",
    "        potential_misspellings.append(token)"
   ]
  }
 ],
 "metadata": {
  "kernelspec": {
   "display_name": "Python 2",
   "language": "python",
   "name": "python2"
  },
  "language_info": {
   "codemirror_mode": {
    "name": "ipython",
    "version": 2
   },
   "file_extension": ".py",
   "mimetype": "text/x-python",
   "name": "python",
   "nbconvert_exporter": "python",
   "pygments_lexer": "ipython2",
   "version": "2.7.9"
  }
 },
 "nbformat": 4,
 "nbformat_minor": 0
}
