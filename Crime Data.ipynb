{
 "cells": [
  {
   "cell_type": "code",
   "execution_count": 10,
   "metadata": {
    "collapsed": false
   },
   "outputs": [
    {
     "name": "stdout",
     "output_type": "stream",
     "text": [
      "<type 'file'>\n"
     ]
    }
   ],
   "source": [
    "# We can open files with the open function.\n",
    "# The open function returns a file object, which we store in a variable so that we can use it later.\n",
    "\n",
    "b = open(\"data/crime_rates.csv\", \"r\")\n",
    "print(type(b))"
   ]
  },
  {
   "cell_type": "code",
   "execution_count": 18,
   "metadata": {
    "collapsed": false
   },
   "outputs": [
    {
     "name": "stdout",
     "output_type": "stream",
     "text": [
      "Alburquerque,749\r\n",
      "Anaheim,371\r\n",
      "Anchorage,828\r\n",
      "Arlington,503\r\n",
      "Atlanta,1379\r\n",
      "Aurora,425\r\n",
      "Austin,408\r\n",
      "Bakersfield,542\r\n",
      "Baltimore,1405\r\n",
      "Boston,835\r\n",
      "Buffalo,1288\r\n",
      "Charlotte-Mecklenburg,647\r\n",
      "Cincinnati,974\r\n",
      "Cleveland,1383\r\n",
      "Colorado Springs,455\r\n",
      "Corpus Christi,658\r\n",
      "Dallas,675\r\n",
      "Denver,615\r\n",
      "Detroit,2122\r\n",
      "El Paso,423\r\n",
      "Fort Wayne,362\r\n",
      "Fort Worth,587\r\n",
      "Fresno,543\r\n",
      "Greensboro,563\r\n",
      "Henderson,168\r\n",
      "Houston,992\r\n",
      "Indianapolis,1185\r\n",
      "Jacksonville,617\r\n",
      "Jersey City,734\r\n",
      "Kansas City,1263\r\n",
      "Las Vegas,784\r\n",
      "Lexington,352\r\n",
      "Lincoln,397\r\n",
      "Long Beach,575\r\n",
      "Los Angeles,481\r\n",
      "Louisville Metro,598\r\n",
      "Memphis,1750\r\n",
      "Mesa,399\r\n",
      "Miami,1172\r\n",
      "Milwaukee,1294\r\n",
      "Minneapolis,992\r\n",
      "Mobile,522\r\n",
      "Nashville,1216\r\n",
      "New Orleans,815\r\n",
      "New York,639\r\n",
      "Newark,1154\r\n",
      "Oakland,1993\r\n",
      "Oklahoma City,919\r\n",
      "Omaha,594\r\n",
      "Philadelphia,1160\r\n",
      "Phoenix,636\r\n",
      "Pittsburgh,752\r\n",
      "Plano,130\r\n",
      "Portland,517\r\n",
      "Raleigh,423\r\n",
      "Riverside,443\r\n",
      "Sacramento,738\r\n",
      "San Antonio,503\r\n",
      "San Diego,413\r\n",
      "San Francisco,704\r\n",
      "San Jose,363\r\n",
      "Santa Ana,401\r\n",
      "Seattle,597\r\n",
      "St. Louis,1776\r\n",
      "St. Paul,722\r\n",
      "Stockton,1548\r\n",
      "Tampa,616\r\n",
      "Toledo,1171\r\n",
      "Tucson,724\r\n",
      "Tulsa,990\r\n",
      "Virginia Beach,169\r\n",
      "Washington,1177\r\n",
      "Wichita,742\n"
     ]
    }
   ],
   "source": [
    "import csv\n",
    "# We assign the file object to the variable f.\n",
    "f = open(\"/data/crime_rates.csv\", 'r')\n",
    "\n",
    "# We can then use the .read() method on the file object to read the contents of the file.\n",
    "# Objects are code constructs that have methods that can act on them.\n",
    "# We'll make our own objects later on (and in fact, strings, ints, and floats are all objects that have their own special method)\n",
    "#csv_f = csv.reader(f)\n",
    "#for row in csv_f:\n",
    " #   print(row)\n",
    "a = f.read()\n",
    "# We can print out a.\n",
    "# a is just a string -- it has the entire contents of the file test.txt.\n",
    "print(a)"
   ]
  },
  {
   "cell_type": "code",
   "execution_count": 5,
   "metadata": {
    "collapsed": true
   },
   "outputs": [],
   "source": [
    "# We can make an empty list with square brackets\n",
    "a = []\n",
    "\n",
    "# We can also initialize a list with values inside of it\n",
    "b = [1, \"I'm a string in a list!\", 5.1]\n",
    "c = [1,2,3]\n",
    "d = [4,5,6]\n",
    "e = [\"hi\",\"bye\",\"yellow\"]\n",
    "f = [3.0,4.0,5.0]"
   ]
  },
  {
   "cell_type": "code",
   "execution_count": null,
   "metadata": {
    "collapsed": true
   },
   "outputs": [],
   "source": [
    "# We can get values from lists by using an index.\n",
    "sample_list = [10, \"Boris Yeltsin\", 50]\n",
    "b = sample_list[0]\n",
    "\n",
    "c = [1, \"Mikhail Gorbachev\", 10.5]\n",
    "d = c[0]\n",
    "e = c[1]\n",
    "f = c[2]"
   ]
  },
  {
   "cell_type": "code",
   "execution_count": 6,
   "metadata": {
    "collapsed": false
   },
   "outputs": [
    {
     "name": "stdout",
     "output_type": "stream",
     "text": [
      "['This', 'is', 'a', 'string', '']\n",
      "['How much wood', 'can a woodchuck chuck', 'if a woodchuck', 'can chuck wood?']\n"
     ]
    },
    {
     "ename": "IOError",
     "evalue": "[Errno 2] No such file or directory: 'crime_rates.csv'",
     "output_type": "error",
     "traceback": [
      "\u001b[0;31m---------------------------------------------------------------------------\u001b[0m",
      "\u001b[0;31mIOError\u001b[0m                                   Traceback (most recent call last)",
      "\u001b[0;32m<ipython-input-6-2a7783aa36cd>\u001b[0m in \u001b[0;36m<module>\u001b[0;34m()\u001b[0m\n\u001b[1;32m      8\u001b[0m \u001b[0msplit_string_two\u001b[0m \u001b[0;34m=\u001b[0m \u001b[0mstring_two\u001b[0m\u001b[0;34m.\u001b[0m\u001b[0msplit\u001b[0m\u001b[0;34m(\u001b[0m\u001b[0;34m'\\n'\u001b[0m\u001b[0;34m)\u001b[0m\u001b[0;34m\u001b[0m\u001b[0m\n\u001b[1;32m      9\u001b[0m \u001b[0;32mprint\u001b[0m\u001b[0;34m(\u001b[0m\u001b[0msplit_string_two\u001b[0m\u001b[0;34m)\u001b[0m\u001b[0;34m\u001b[0m\u001b[0m\n\u001b[0;32m---> 10\u001b[0;31m \u001b[0ma\u001b[0m \u001b[0;34m=\u001b[0m \u001b[0mopen\u001b[0m\u001b[0;34m(\u001b[0m\u001b[0;34m\"crime_rates.csv\"\u001b[0m\u001b[0;34m,\u001b[0m \u001b[0;34m'r'\u001b[0m\u001b[0;34m)\u001b[0m\u001b[0;34m\u001b[0m\u001b[0m\n\u001b[0m\u001b[1;32m     11\u001b[0m \u001b[0mb\u001b[0m \u001b[0;34m=\u001b[0m \u001b[0ma\u001b[0m\u001b[0;34m.\u001b[0m\u001b[0mread\u001b[0m\u001b[0;34m(\u001b[0m\u001b[0;34m)\u001b[0m\u001b[0;34m\u001b[0m\u001b[0m\n\u001b[1;32m     12\u001b[0m \u001b[0mrows\u001b[0m \u001b[0;34m=\u001b[0m \u001b[0mb\u001b[0m\u001b[0;34m.\u001b[0m\u001b[0msplit\u001b[0m\u001b[0;34m(\u001b[0m\u001b[0;34m'\\n'\u001b[0m\u001b[0;34m)\u001b[0m\u001b[0;34m\u001b[0m\u001b[0m\n",
      "\u001b[0;31mIOError\u001b[0m: [Errno 2] No such file or directory: 'crime_rates.csv'"
     ]
    }
   ],
   "source": [
    "# We can split a string into a list.\n",
    "a_string = \"This\\nis\\na\\nstring\\n\"\n",
    "split_string = a_string.split('\\n')\n",
    "print(split_string)\n",
    "\n",
    "# Here's another example.\n",
    "string_two = \"How much wood\\ncan a woodchuck chuck\\nif a woodchuck\\ncan chuck wood?\"\n",
    "split_string_two = string_two.split('\\n')\n",
    "print(split_string_two)\n",
    "a = open(\"data/crime_rates.csv\", 'r')\n",
    "b = a.read()\n",
    "rows = b.split('\\n')\n",
    "print(rows)\n"
   ]
  },
  {
   "cell_type": "code",
   "execution_count": null,
   "metadata": {
    "collapsed": true
   },
   "outputs": [],
   "source": [
    "# We can loop over each item in a list.\n",
    "a = [5, 10, 15]\n",
    "for i in a:\n",
    "    print(i)\n",
    "\n",
    "# The whole block underneath a for loop needs to be indented 4 spaces, and is run once for each item in the list.\n",
    "\n",
    "the_list = [3,5,8,10,15,17,19]\n",
    "for i in the_list:\n",
    "    print(i)"
   ]
  },
  {
   "cell_type": "code",
   "execution_count": null,
   "metadata": {
    "collapsed": true
   },
   "outputs": [],
   "source": [
    "# We can have multiple lines underneath a for loop.\n",
    "# The code above will go through the_list.\n",
    "# At the end, sum will equal the sum of all of the items in the list doubled.\n",
    "the_list = [3,5,8,10,15,17,19]\n",
    "sum = 0\n",
    "for i in the_list:\n",
    "    # Double the value of i.\n",
    "    double_i = i * 2\n",
    "    # Add the doubled value to the sum.\n",
    "    sum = sum + double_i\n",
    "print(sum)"
   ]
  },
  {
   "cell_type": "code",
   "execution_count": null,
   "metadata": {
    "collapsed": true
   },
   "outputs": [],
   "source": [
    "# We can name the loop variable anything we want, it just has to be also used inside the loop.\n",
    "the_list = [3,5,8,10,15,17,19]\n",
    "sum = 0\n",
    "for this in the_list:\n",
    "    double_value = this * 3\n",
    "    sum = sum + double_value\n",
    "print(sum)"
   ]
  },
  {
   "cell_type": "code",
   "execution_count": null,
   "metadata": {
    "collapsed": true
   },
   "outputs": [],
   "source": [
    "# Create a list of lists\n",
    "lolists = [[1,2,3], [10,15,14], [10.1,8.7,2.3]]\n",
    "\n",
    "# We can pull out the first element of the list, which is [1,2,3].\n",
    "# Since [1,2,3] is a list, we can also index it to get elements out.\n",
    "a = lolists[0]\n",
    "b = a[0]\n",
    "c = lolists[1]\n",
    "value_1_0 = c[0]\n",
    "d = lolists[1]\n",
    "value_1_2 = d[2]\n",
    "e = lolists[2]\n",
    "value_2_0 = e[0]\n",
    "f = lolists[2]\n",
    "value_2_2 = f[2]"
   ]
  },
  {
   "cell_type": "code",
   "execution_count": null,
   "metadata": {
    "collapsed": true
   },
   "outputs": [],
   "source": [
    "# Create a list of lists\n",
    "lolists = [[1,2,3], [10,15,14], [10.1,8.7,2.3]]\n",
    "\n",
    "# Pulls out the first element in the first list.\n",
    "a = lolists[0][0]\n",
    "\n",
    "# Pulls out the third element in the second list.\n",
    "b = lolists[1][2]\n",
    "\n",
    "# We can also directly do math with expressions.\n",
    "c = lolists[0][2] + 10\n",
    "\n",
    "# Any expression in python can be manipulated without first assigning it to a variable.\n",
    "d = 10\n",
    "\n",
    "e = d * lolists[2][0]"
   ]
  },
  {
   "cell_type": "code",
   "execution_count": null,
   "metadata": {
    "collapsed": true
   },
   "outputs": [],
   "source": [
    "lolists = [[1,2,3], [10,15,14], [10.1,8.7,2.3]]\n",
    "\n",
    "for inner_list in lolists:\n",
    "\n",
    "    print(inner_list[0])"
   ]
  },
  {
   "cell_type": "code",
   "execution_count": null,
   "metadata": {
    "collapsed": true
   },
   "outputs": [],
   "source": [
    "# The append method adds items to the end of lists.\n",
    "# a will go from having no items in it to having 10 at index 0.\n",
    "a = []\n",
    "print(a)\n",
    "a.append(10)\n",
    "print(a)\n",
    "\n",
    "# b will go from having one item to having two items.\n",
    "b = [30]\n",
    "print(b)\n",
    "b.append(50)\n",
    "print(b)\n",
    "\n",
    "# We can setup an old list with items, and an empty new list.\n",
    "old_list = [1,2,5,10]\n",
    "new_list = []\n",
    "\n",
    "# At the end of this loop, new_list will be equal to old_list.\n",
    "# The loop will have gone through each item in old_list, starting from index 0, and appended it to the end of new_list.\n",
    "for item in old_list:\n",
    "    new_list.append(item)\n",
    "print(new_list)\n",
    "\n",
    "c = [20,30]\n",
    "c.append(60)\n",
    "c.append(70)\n"
   ]
  },
  {
   "cell_type": "code",
   "execution_count": 13,
   "metadata": {
    "collapsed": false
   },
   "outputs": [
    {
     "name": "stdout",
     "output_type": "stream",
     "text": [
      "['1', '10', '15', '20']\n",
      "<type 'list'>\n",
      "1\n",
      "[['Alburquerque', '749\\rAnaheim', '371\\rAnchorage', '828\\rArlington', '503\\rAtlanta', '1379\\rAurora', '425\\rAustin', '408\\rBakersfield', '542\\rBaltimore', '1405\\rBoston', '835\\rBuffalo', '1288\\rCharlotte-Mecklenburg', '647\\rCincinnati', '974\\rCleveland', '1383\\rColorado Springs', '455\\rCorpus Christi', '658\\rDallas', '675\\rDenver', '615\\rDetroit', '2122\\rEl Paso', '423\\rFort Wayne', '362\\rFort Worth', '587\\rFresno', '543\\rGreensboro', '563\\rHenderson', '168\\rHouston', '992\\rIndianapolis', '1185\\rJacksonville', '617\\rJersey City', '734\\rKansas City', '1263\\rLas Vegas', '784\\rLexington', '352\\rLincoln', '397\\rLong Beach', '575\\rLos Angeles', '481\\rLouisville Metro', '598\\rMemphis', '1750\\rMesa', '399\\rMiami', '1172\\rMilwaukee', '1294\\rMinneapolis', '992\\rMobile', '522\\rNashville', '1216\\rNew Orleans', '815\\rNew York', '639\\rNewark', '1154\\rOakland', '1993\\rOklahoma City', '919\\rOmaha', '594\\rPhiladelphia', '1160\\rPhoenix', '636\\rPittsburgh', '752\\rPlano', '130\\rPortland', '517\\rRaleigh', '423\\rRiverside', '443\\rSacramento', '738\\rSan Antonio', '503\\rSan Diego', '413\\rSan Francisco', '704\\rSan Jose', '363\\rSanta Ana', '401\\rSeattle', '597\\rSt. Louis', '1776\\rSt. Paul', '722\\rStockton', '1548\\rTampa', '616\\rToledo', '1171\\rTucson', '724\\rTulsa', '990\\rVirginia Beach', '169\\rWashington', '1177\\rWichita', '742']]\n"
     ]
    }
   ],
   "source": [
    "# We can use the .split method, with a comma as an input, to split a string on a comma.\n",
    "# a_list is a list with 1,10,15, and 20 as elements.\n",
    "a_string = \"1,10,15,20\"\n",
    "a_list = a_string.split(\",\")\n",
    "print(a_list)\n",
    "print(type(a_list))\n",
    "print(a_list[0])\n",
    "\n",
    "# We split our csv file data into rows earlier.\n",
    "f = open('data.crime_rates.csv', 'r')\n",
    "data = f.read()\n",
    "rows = data.split('\\n')\n",
    "full_data = []\n",
    "for row in rows:\n",
    "    split_row = row.split(\",\")\n",
    "    full_data.append(split_row)\n",
    "print (full_data)"
   ]
  },
  {
   "cell_type": "code",
   "execution_count": null,
   "metadata": {
    "collapsed": true
   },
   "outputs": [],
   "source": [
    "# Iterate over the data to count up the number of rows.\n",
    "# Also we can parse our csv file like we did before.\n",
    "f = open('data/crime_rates.csv', 'r')\n",
    "data = f.read()\n",
    "rows = data.split('\\n')\n",
    "full_data = []\n",
    "for row in rows:\n",
    "    split_row = row.split(\",\")\n",
    "    full_data.append(split_row)\n",
    "count = 0\n",
    "for row in full_data:\n",
    "    count = count + 1"
   ]
  },
  {
   "cell_type": "code",
   "execution_count": null,
   "metadata": {
    "collapsed": true
   },
   "outputs": [],
   "source": [
    "#Set count equal to the number of columns in full_data.\n",
    "f = open('data/crime_rates.csv', 'r')\n",
    "data = f.read()\n",
    "rows = data.split('\\n')\n",
    "full_data = []\n",
    "for row in rows:\n",
    "    split_row = row.split(\",\")\n",
    "    full_data.append(split_row)\n",
    "count = 0\n",
    "first_row = full_data[0]\n",
    "for column in first_row:\n",
    "    count = count + 1"
   ]
  },
  {
   "cell_type": "code",
   "execution_count": null,
   "metadata": {
    "collapsed": true
   },
   "outputs": [],
   "source": [
    "# Booleans are statements that take on either True or False as a value.\n",
    "# We can create booleans by comparing two values and seeing if they are equal\n",
    "# This will be False\n",
    "print(\"Andre the Giant\" == \"Short\")\n",
    "\n",
    "# This is True\n",
    "print(\"Andre the Giant\" == \"Andre the Giant\")\n",
    "\n",
    "# True and False are special python keywords of the boolean type.\n",
    "# Boolean is abbreviated to bool.\n",
    "print(type(True))\n",
    "print(type(False))\n",
    "\n",
    "a = 10\n",
    "b = 5\n",
    "\n",
    "# False\n",
    "print(a == b)\n",
    "\n",
    "# True\n",
    "print(a == 10)\n",
    "\n",
    "# Assigning a boolean to a variable\n",
    "c = a == b\n",
    "print(c)\n",
    "d = 10 == a\n",
    "e = 5 == b\n",
    "f = 4 == b\n",
    "g = 3 == b"
   ]
  },
  {
   "cell_type": "code",
   "execution_count": null,
   "metadata": {
    "collapsed": true
   },
   "outputs": [],
   "source": [
    "# We can 'nest' if statements inside for loops, or vice versa.\n",
    "the_list = [5, 10, 15, 20]\n",
    "\n",
    "# Let's say we want to count how many elements in the_list are greater than 10.\n",
    "count = 0\n",
    "for item in the_list:\n",
    "    if item > 10:\n",
    "        count = count + 1\n",
    "print(count)\n",
    "\n",
    "# Count equals two because item > 10 evaluated to True for 2 of the items in the_list.\n",
    "# Notice how we indented the body of the if statement another 4 spaces.\n",
    "# Whenever you put statements that have indented blocks inside each other, you will need to indent 4 more spaces.\n",
    "\n",
    "a = 2\n",
    "\n",
    "# Let's say we want to print all of the elements in the_list if a > 1.\n",
    "if a > 1:\n",
    "    for item in the_list:\n",
    "        print(item)\n",
    "\n",
    "# The above code will print all of the items in the_list, because a > 1 evaluates to True.\n",
    "for i in the_list:\n",
    "    if i > 5:\n",
    "        print(i)"
   ]
  },
  {
   "cell_type": "code",
   "execution_count": null,
   "metadata": {
    "collapsed": true
   },
   "outputs": [],
   "source": [
    "# We can use for loops and if statements to find the smallest value in a list.\n",
    "the_list = [20,50,5,100]\n",
    "\n",
    "# Set smallest_item to a value that is bigger than anything in the_list.\n",
    "smallest_item = 1000\n",
    "for item in the_list:\n",
    "    # Check if each item is less than smallest_item.\n",
    "    if item < smallest_item:\n",
    "        # If it is, set smallest_item equal to its value.\n",
    "        smallest_item = item\n",
    "print(smallest_item)\n",
    "\n",
    "# The first time through the loop above, smallest_item will be set to 20, because 20 < 1000 is True.\n",
    "# The second time through, smallest_item will stay at 20, because 50 < 20 is False.\n",
    "# The third time through, smallest_item will be set to 5, because 5 < 20 is True.\n",
    "# The last time through, smallest_item will stay at 5, because 100 < 5 is False.\n",
    "\n",
    "smallest_item = 1000\n",
    "a = [500,10,200,5,78,-1,-10,-100,567,890,400,34,-101,895]\n",
    "for item in a:\n",
    "    if item < smallest_item:\n",
    "        smallest_item = item\n",
    "print(smallest_item)"
   ]
  },
  {
   "cell_type": "code",
   "execution_count": null,
   "metadata": {
    "collapsed": true
   },
   "outputs": [],
   "source": [
    "# We can use for loops and if statements to find the smallest value in a list.\n",
    "the_list = [20,50,5,100]\n",
    "\n",
    "# Set smallest_item to a value that is bigger than anything in the_list.\n",
    "smallest_item = 1000\n",
    "for item in the_list:\n",
    "    # Check if each item is less than smallest_item.\n",
    "    if item < smallest_item:\n",
    "        # If it is, set smallest_item equal to its value.\n",
    "        smallest_item = item\n",
    "print(smallest_item)\n",
    "\n",
    "# The first time through the loop above, smallest_item will be set to 20, because 20 < 1000 is True.\n",
    "# The second time through, smallest_item will stay at 20, because 50 < 20 is False.\n",
    "# The third time through, smallest_item will be set to 5, because 5 < 20 is True.\n",
    "# The last time through, smallest_item will stay at 5, because 100 < 5 is False.\n",
    "\n",
    "smallest_item = 1000\n",
    "a = [500,10,200,5,78,-1,-10,-100,567,890,400,34,-101,895]\n",
    "for item in a:\n",
    "    if item < smallest_item:\n",
    "        smallest_item = item\n",
    "print(smallest_item)"
   ]
  },
  {
   "cell_type": "code",
   "execution_count": null,
   "metadata": {
    "collapsed": true
   },
   "outputs": [],
   "source": [
    "# Now that we know about the int() function, let's use it to convert the values in a list to integers.\n",
    "the_list = ['1', '2', '3']\n",
    "new_list = []\n",
    "\n",
    "# Loop through the_list\n",
    "for item in the_list:\n",
    "    # Get the int value of the item in the list\n",
    "    item_int = int(item)\n",
    "    # Add the int item to the new list\n",
    "    new_list.append(item_int)\n",
    "# Print out the new list\n",
    "print(new_list)\n",
    "\n",
    "a = ['10', '15', '20', '35']\n",
    "new_a = []\n",
    "for i in a:\n",
    "    item_int = int(i)\n",
    "    new_a.append(item_int)\n",
    "print(new_a)"
   ]
  },
  {
   "cell_type": "code",
   "execution_count": null,
   "metadata": {
    "collapsed": true
   },
   "outputs": [],
   "source": [
    "# We need to convert the crime rate values from our csv file into integers.\n",
    "# They are strings now because we originally split them up from a large string we read in.\n",
    "\n",
    "# Here's our csv reading code from before\n",
    "f = open('data/crime_rates.csv', 'r')\n",
    "data = f.read()\n",
    "rows = data.split('\\n')\n",
    "full_data = []\n",
    "for row in rows:\n",
    "    split_row = row.split(\",\")\n",
    "    split_row[1] = int(split_row[1])\n",
    "    full_data.append(split_row)"
   ]
  },
  {
   "cell_type": "code",
   "execution_count": null,
   "metadata": {
    "collapsed": true
   },
   "outputs": [],
   "source": [
    "# We now know everything we need to find the smallest crime rate.\n",
    "# Remember that we are finding the smallest crime rate (second column), not the city (first column) with the lowest crime rate.\n",
    "# We parse our csv file\n",
    "f = open('data/crime_rates.csv', 'r')\n",
    "data = f.read()\n",
    "rows = data.split('\\n')\n",
    "full_data = []\n",
    "for row in rows:\n",
    "    split_row = row.split(\",\")\n",
    "    split_row[1] = int(split_row[1])\n",
    "    full_data.append(split_row)\n",
    "\n",
    "lowest_crime_rate = 10000\n",
    "for row in full_data:\n",
    "    crime_rate = row[1]\n",
    "    if crime_rate < lowest_crime_rate:\n",
    "        lowest_crime_rate = crime_rate"
   ]
  },
  {
   "cell_type": "code",
   "execution_count": null,
   "metadata": {
    "collapsed": true
   },
   "outputs": [],
   "source": [
    "lolist = [[1,5,7],[10,8,9],[7,10,11]]\n",
    "\n",
    "# Let's say we want to get the first element of the inner list whose third element is 9.\n",
    "value = 0\n",
    "for item in lolist:\n",
    "    last_value = item[2]\n",
    "    first_value = item[0]\n",
    "    if last_value == 9:\n",
    "        value = first_value\n",
    "print(value)\n",
    "\n",
    "# The above code will print 10, which is the first value in the inner list where 9 is the last value.\n",
    "# What we are doing can also be described in terms of rows and columns.\n",
    "# We are finding the first column in the rows where the third column equals 9.\n",
    "\n",
    "# Can you write code to find the second element in the inner list whose first element is 7? (search through lolist)\n",
    "# Set the value variable equal to the answer.\n",
    "value = 0\n",
    "for item in lolist:\n",
    "    second_element = item[1]\n",
    "    first_element = item[0]\n",
    "    if first_element == 7:\n",
    "        value = second_element\n",
    "print(value)"
   ]
  },
  {
   "cell_type": "code",
   "execution_count": null,
   "metadata": {
    "collapsed": true
   },
   "outputs": [],
   "source": [
    "# We know that the lowest crime rate is 130.\n",
    "# This is the second column of the data.\n",
    "# We need to find the corresponding value in the first column -- the city with the lowest crime rate.\n",
    "\n",
    "# Let's load the csv file\n",
    "f = open('data/crime_rates.csv', 'r')\n",
    "data = f.read()\n",
    "rows = data.split('\\n')\n",
    "full_data = []\n",
    "for row in rows:\n",
    "    split_row = row.split(\",\")\n",
    "    split_row[1] = int(split_row[1])\n",
    "    full_data.append(split_row)\n",
    "\n",
    "city = \"\"\n",
    "value = 0\n",
    "for item in full_data:\n",
    "    first_column = item[0]\n",
    "    second_column = item[1]\n",
    "    if second_column == 130:\n",
    "        city = first_column\n",
    "print(city)"
   ]
  }
 ],
 "metadata": {
  "kernelspec": {
   "display_name": "Python 2",
   "language": "python",
   "name": "python2"
  },
  "language_info": {
   "codemirror_mode": {
    "name": "ipython",
    "version": 2
   },
   "file_extension": ".py",
   "mimetype": "text/x-python",
   "name": "python",
   "nbconvert_exporter": "python",
   "pygments_lexer": "ipython2",
   "version": "2.7.9"
  }
 },
 "nbformat": 4,
 "nbformat_minor": 0
}
