{
 "cells": [
  {
   "cell_type": "code",
   "execution_count": 1,
   "metadata": {
    "collapsed": false
   },
   "outputs": [
    {
     "ename": "IOError",
     "evalue": "[Errno 2] No such file or directory: 'nfl.csv'",
     "output_type": "error",
     "traceback": [
      "\u001b[0;31m---------------------------------------------------------------------------\u001b[0m",
      "\u001b[0;31mIOError\u001b[0m                                   Traceback (most recent call last)",
      "\u001b[0;32m<ipython-input-1-4e0e0b061fe0>\u001b[0m in \u001b[0;36m<module>\u001b[0;34m()\u001b[0m\n\u001b[1;32m      1\u001b[0m \u001b[0;31m# An easier way to read in a csv file\u001b[0m\u001b[0;34m\u001b[0m\u001b[0;34m\u001b[0m\u001b[0m\n\u001b[0;32m----> 2\u001b[0;31m \u001b[0mf\u001b[0m \u001b[0;34m=\u001b[0m \u001b[0mopen\u001b[0m\u001b[0;34m(\u001b[0m\u001b[0;34m\"nfl.csv\"\u001b[0m\u001b[0;34m,\u001b[0m \u001b[0;34m'r'\u001b[0m\u001b[0;34m)\u001b[0m\u001b[0;34m\u001b[0m\u001b[0m\n\u001b[0m\u001b[1;32m      3\u001b[0m \u001b[0mcsvreader\u001b[0m \u001b[0;34m=\u001b[0m \u001b[0mcsv\u001b[0m\u001b[0;34m.\u001b[0m\u001b[0mreader\u001b[0m\u001b[0;34m(\u001b[0m\u001b[0mf\u001b[0m\u001b[0;34m)\u001b[0m\u001b[0;34m\u001b[0m\u001b[0m\n\u001b[1;32m      4\u001b[0m \u001b[0mnfl\u001b[0m \u001b[0;34m=\u001b[0m \u001b[0mlist\u001b[0m\u001b[0;34m(\u001b[0m\u001b[0mcsvreader\u001b[0m\u001b[0;34m)\u001b[0m\u001b[0;34m\u001b[0m\u001b[0m\n",
      "\u001b[0;31mIOError\u001b[0m: [Errno 2] No such file or directory: 'nfl.csv'"
     ]
    }
   ],
   "source": [
    "# An easier way to read in a csv file\n",
    "f = open(\"nfl.csv\", 'r')\n",
    "csvreader = csv.reader(f)\n",
    "nfl = list(csvreader)"
   ]
  },
  {
   "cell_type": "code",
   "execution_count": null,
   "metadata": {
    "collapsed": true
   },
   "outputs": [],
   "source": [
    "# Count up how many games the \"New England Patriots\" won from 2009-2013.\n",
    "patriots_wins = 0\n",
    "for row in nfl:\n",
    "    if row[2] == \"New England Patriots\":\n",
    "        patriots_wins += 1"
   ]
  },
  {
   "cell_type": "code",
   "execution_count": null,
   "metadata": {
    "collapsed": true
   },
   "outputs": [],
   "source": [
    "# Count up the wins for a single team\n",
    "def nfl_wins(team):\n",
    "    count = 0\n",
    "    for row in nfl:\n",
    "        if row[2] == team:\n",
    "            count += 1\n",
    "    return count \n",
    "\n",
    "cowboys_wins = nfl_wins(\"Dallas Cowboys\")\n",
    "falcons_wins = nfl_wins(\"Atlanta Falcons\")"
   ]
  },
  {
   "cell_type": "code",
   "execution_count": null,
   "metadata": {
    "collapsed": true
   },
   "outputs": [],
   "source": [
    "# Returns the wins by the team in the year.\n",
    "def nfl_wins_in_a_year(team, year):\n",
    "    count = 0\n",
    "    for row in nfl:\n",
    "        # We need to ensure that we only increment the count when the row pertains to the year we want.\n",
    "        if row[2] == team and row[0] == year:\n",
    "            count = count + 1\n",
    "    return count\n",
    "browns_2010_wins = nfl_wins_in_a_year(\"Cleveland Browns\", \"2010\")\n",
    "eagles_2011_wins = nfl_wins_in_a_year(\"Philadelphia Eagles\", \"2011\")"
   ]
  },
  {
   "cell_type": "code",
   "execution_count": null,
   "metadata": {
    "collapsed": true
   },
   "outputs": [],
   "source": [
    "# Returns wins for each year.\n",
    "def nfl_wins_in_a_year(team, year):\n",
    "    count = 0\n",
    "    for row in nfl:\n",
    "        if row[2] == team and row[0] == year:\n",
    "            count = count + 1\n",
    "    return count\n",
    "\n",
    "def nfl_wins_by_year(team):\n",
    "    win_dict = {}\n",
    "    for year in [\"2009\", \"2010\", \"2011\", \"2012\", \"2013\"]:\n",
    "        win_dict[year] = nfl_wins_in_a_year(team, year)\n",
    "    return win_dict\n",
    "dolphins_wins_by_year = nfl_wins_by_year(\"Miami Dolphins\")\n",
    "chargers_wins_by_year = nfl_wins_by_year(\"San Diego Chargers\")"
   ]
  },
  {
   "cell_type": "code",
   "execution_count": 2,
   "metadata": {
    "collapsed": false
   },
   "outputs": [
    {
     "name": "stdout",
     "output_type": "stream",
     "text": [
      "Honda Accord\n"
     ]
    }
   ],
   "source": [
    "# Intro to classes\n",
    "class Car():\n",
    "    # The special __init__ function is run whenever a class is instantiated.\n",
    "    # The init function can take arguments, but self is always the first one.\n",
    "    # Self is a reference to the instance of the class.\n",
    "    def __init__(self, car):\n",
    "        # Using self before car means that car is an instance property.\n",
    "        self.car = car\n",
    "\n",
    "# When we instantiate the class, we pass in any arguments that the __init__ function needs.\n",
    "# We skip the self argument.\n",
    "accord = Car(\"Honda Accord\")\n",
    "\n",
    "# We set self.car in the __init__ function, but can print accord.car here.\n",
    "# self is a reference to the instance of the class.\n",
    "# It lets us interact with the class instance within the class.\n",
    "print(accord.car)\n",
    "\n",
    "# Instance properties are only available to instances, not to the classes.\n",
    "# We couldn't print Car.car, for example.\n",
    "\n",
    "class Team():\n",
    "    \n",
    "    \n",
    "    \n",
    "    def __init__(self, name):\n",
    "    \n",
    "        self.name = name\n",
    "    \n"
   ]
  },
  {
   "cell_type": "code",
   "execution_count": null,
   "metadata": {
    "collapsed": true
   },
   "outputs": [],
   "source": [
    "class Zoo():\n",
    "    def __init__(self):\n",
    "        self.animals = []\n",
    "\n",
    "    # This is an instance method.\n",
    "    # It can be invoked on any instance of this class.\n",
    "    # Note that because it is an instance method, we still need to put in the self argument.\n",
    "    def add_animal(self, animal):\n",
    "        # This will add the animal to the list of animals that the instance is storing.\n",
    "        self.animals.append(animal)\n",
    "\n",
    "# We start with no animals.\n",
    "san_diego_zoo = Zoo()\n",
    "print(san_diego_zoo.animals)\n",
    "\n",
    "# Then we get a panda!\n",
    "san_diego_zoo.add_animal(\"panda\")\n",
    "print(san_diego_zoo.animals)\n",
    "\n",
    "# The we get an orca!\n",
    "san_diego_zoo.add_animal(\"orca\")\n",
    "print(san_diego_zoo.animals)\n",
    "\n",
    "# The nfl data is loaded into the nfl variable.\n",
    "class Team():\n",
    "    def __init__(self, name):\n",
    "        self.name = name\n",
    " \n",
    "    def count_total_wins(self):\n",
    "        count = 0\n",
    "        for row in nfl:\n",
    "            if row[2] == self.name:\n",
    "                count += 1\n",
    "        return count \n",
    "\n",
    "broncos = Team(\"Denver Broncos\")\n",
    "broncos_wins = broncos.count_total_wins()\n",
    "\n",
    "chiefs = Team(\"Kansas City Chiefs\")\n",
    "chiefs_wins = chiefs.count_total_wins()"
   ]
  },
  {
   "cell_type": "code",
   "execution_count": null,
   "metadata": {
    "collapsed": true
   },
   "outputs": [],
   "source": [
    "import csv\n",
    "class Team():\n",
    "    def __init__(self, name):\n",
    "        self.name = name\n",
    "        f = open(\"nfl.csv\", 'r')\n",
    "        csvreader = csv.reader(f)\n",
    "        self.nfl = list(csvreader)\n",
    "    \n",
    "    def count_total_wins(self):\n",
    "        count = 0\n",
    "        for row in self.nfl:\n",
    "            if row[2] == self.name:\n",
    "                count = count + 1\n",
    "        return count\n",
    "    \n",
    "jaguars = Team(\"Jacksonville Jaguars\")\n",
    "jaguars_wins = jaguars.count_total_wins()\n",
    "        \n",
    "    \n",
    "    "
   ]
  },
  {
   "cell_type": "code",
   "execution_count": null,
   "metadata": {
    "collapsed": true
   },
   "outputs": [],
   "source": [
    "import csv\n",
    "class Team():\n",
    "    def __init__(self, name):\n",
    "        self.name = name\n",
    "        f = open(\"nfl.csv\", 'r')\n",
    "        csvreader = csv.reader(f)\n",
    "        self.nfl = list(csvreader)\n",
    "\n",
    "    def count_total_wins(self):\n",
    "        count = 0\n",
    "        for row in self.nfl:\n",
    "            if row[2] == self.name:\n",
    "                count = count + 1\n",
    "        return count\n",
    "\n",
    "    def wins_by_year(self):\n",
    "        years = [\"2009\", \"2010\", \"2011\", \"2012\", \"2013\"]\n",
    "        wins = {}\n",
    "        for year in years:\n",
    "            count = 0\n",
    "            for row in self.nfl:\n",
    "                if row[2] == self.name and row[0] == year:\n",
    "                    count += 1\n",
    "            wins[year] = count\n",
    "        return wins\n",
    "\n",
    "niners = Team(\"San Francisco 49ers\")\n",
    "niners_wins_by_year = niners.wins_by_year()\n"
   ]
  }
 ],
 "metadata": {
  "kernelspec": {
   "display_name": "Python 2",
   "language": "python",
   "name": "python2"
  },
  "language_info": {
   "codemirror_mode": {
    "name": "ipython",
    "version": 2
   },
   "file_extension": ".py",
   "mimetype": "text/x-python",
   "name": "python",
   "nbconvert_exporter": "python",
   "pygments_lexer": "ipython2",
   "version": "2.7.9"
  }
 },
 "nbformat": 4,
 "nbformat_minor": 0
}
