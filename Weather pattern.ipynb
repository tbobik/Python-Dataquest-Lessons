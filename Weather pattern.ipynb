{
 "cells": [
  {
   "cell_type": "code",
   "execution_count": null,
   "metadata": {
    "collapsed": true
   },
   "outputs": [],
   "source": [
    "f = open(\"data/la_weather.csv\", 'r')\n",
    "data = f.read()\n",
    "rows = data.split('\\n')\n",
    "weather_data = []\n",
    "for row in rows:\n",
    "    split_row = row.split(\",\")\n",
    "    weather_data.append(split_row)\n",
    "print(data)\n",
    "print(rows)\n",
    "print(weather_data)"
   ]
  },
  {
   "cell_type": "code",
   "execution_count": null,
   "metadata": {
    "collapsed": true
   },
   "outputs": [],
   "source": [
    "# The \"days\" column in our data isn't extremely useful for our task, so we need to just grab the second column, with the weather.\n",
    "# We looped over lists before, and this is how we will extract the second column.\n",
    "lolist = [[1,2],[3,4],[5,6],[7,8]]\n",
    "second_column = []\n",
    "for item in lolist:\n",
    "    # Each item in lolist is a list.\n",
    "    # We can get just the second column value by indexing the item.\n",
    "    value = item[1]\n",
    "    second_column.append(value)\n",
    "\n",
    "# second_column is now a list containing only values from the second column of lolist.\n",
    "print(second_column)\n",
    "\n",
    "# Let's read in our weather data again.\n",
    "weather_data = []\n",
    "f = open(\"data/la_weather.csv\", 'r')\n",
    "data = f.read()\n",
    "rows = data.split('\\n')\n",
    "for row in rows:\n",
    "    split_row = row.split(\",\")\n",
    "    weather_data.append(split_row)\n",
    "\n",
    "weather_column = []\n",
    "for item in weather_data:\n",
    "    value = item[1]\n",
    "    weather_column.append(value)"
   ]
  },
  {
   "cell_type": "code",
   "execution_count": null,
   "metadata": {
    "collapsed": true
   },
   "outputs": [],
   "source": [
    "# remove \n",
    "new_weather = weather[1:376]"
   ]
  },
  {
   "cell_type": "code",
   "execution_count": null,
   "metadata": {
    "collapsed": true
   },
   "outputs": [],
   "source": [
    "# Our weather column, minus the header, is assigned to the weather variable.\n",
    "weather_counts = {}\n",
    "for item in weather:\n",
    "    if item in weather_counts:\n",
    "        weather_counts[item] += 1\n",
    "    else:\n",
    "        weather_counts[item] = 1\n",
    "print(weather_counts)"
   ]
  }
 ],
 "metadata": {
  "kernelspec": {
   "display_name": "Python 2",
   "language": "python",
   "name": "python2"
  },
  "language_info": {
   "codemirror_mode": {
    "name": "ipython",
    "version": 2
   },
   "file_extension": ".py",
   "mimetype": "text/x-python",
   "name": "python",
   "nbconvert_exporter": "python",
   "pygments_lexer": "ipython2",
   "version": "2.7.9"
  }
 },
 "nbformat": 4,
 "nbformat_minor": 0
}
